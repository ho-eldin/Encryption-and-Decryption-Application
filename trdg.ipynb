{
  "nbformat": 4,
  "nbformat_minor": 0,
  "metadata": {
    "colab": {
      "provenance": [],
      "gpuType": "T4",
      "authorship_tag": "ABX9TyPeyI6yKWVwAYhXIeRttyvz",
      "include_colab_link": true
    },
    "kernelspec": {
      "name": "python3",
      "display_name": "Python 3"
    },
    "language_info": {
      "name": "python"
    },
    "accelerator": "GPU"
  },
  "cells": [
    {
      "cell_type": "markdown",
      "metadata": {
        "id": "view-in-github",
        "colab_type": "text"
      },
      "source": [
        "<a href=\"https://colab.research.google.com/github/ho-eldin/Encryption-and-Decryption-Application/blob/main/trdg.ipynb\" target=\"_parent\"><img src=\"https://colab.research.google.com/assets/colab-badge.svg\" alt=\"Open In Colab\"/></a>"
      ]
    },
    {
      "cell_type": "code",
      "source": [
        "!git clone https://github.com/Belval/TextRecognitionDataGenerator"
      ],
      "metadata": {
        "colab": {
          "base_uri": "https://localhost:8080/"
        },
        "id": "rARgwgHop_ma",
        "outputId": "e7f954a4-e49c-4ba1-9716-1f2b033be10a"
      },
      "execution_count": null,
      "outputs": [
        {
          "output_type": "stream",
          "name": "stdout",
          "text": [
            "Cloning into 'TextRecognitionDataGenerator'...\n",
            "remote: Enumerating objects: 1589, done.\u001b[K\n",
            "remote: Total 1589 (delta 0), reused 0 (delta 0), pack-reused 1589\u001b[K\n",
            "Receiving objects: 100% (1589/1589), 152.64 MiB | 15.13 MiB/s, done.\n",
            "Resolving deltas: 100% (665/665), done.\n",
            "Updating files: 100% (576/576), done.\n"
          ]
        }
      ]
    },
    {
      "cell_type": "code",
      "source": [
        "%%capture\n",
        "\n",
        "!pip install -r \"/content/TextRecognitionDataGenerator/requirements.txt\""
      ],
      "metadata": {
        "id": "7ZZlPdRPuoVo"
      },
      "execution_count": null,
      "outputs": []
    },
    {
      "cell_type": "code",
      "source": [
        "import os\n",
        "import datetime\n",
        "\n",
        "current_time = datetime.datetime.now().strftime(\"%Y-%m-%d_%H-%M-%S\")\n",
        "\n",
        "output_dir = f\"/content/out_{current_time}/\"\n",
        "\n",
        "!python3 \"/content/TextRecognitionDataGenerator/trdg/run.py\" -c 10000 -l ar -w 5 --output_dir \"{output_dir}\"\n",
        "\n",
        "os.chdir(output_dir)\n",
        "\n",
        "for filename in os.listdir():\n",
        "    parts = filename.split(\".\")\n",
        "    parts[0] = parts[0][::-1].split(\"_\")[1]\n",
        "    new_filename = \".\".join(parts)\n",
        "    os.rename(filename, new_filename)\n"
      ],
      "metadata": {
        "colab": {
          "base_uri": "https://localhost:8080/"
        },
        "id": "4h_DJUyrxGtm",
        "outputId": "93fe99ff-890d-4dc8-d6ba-049baa0d828d"
      },
      "execution_count": 8,
      "outputs": [
        {
          "output_type": "stream",
          "name": "stdout",
          "text": [
            "2024-05-10 17:23:22.986663: E external/local_xla/xla/stream_executor/cuda/cuda_dnn.cc:9261] Unable to register cuDNN factory: Attempting to register factory for plugin cuDNN when one has already been registered\n",
            "2024-05-10 17:23:22.986727: E external/local_xla/xla/stream_executor/cuda/cuda_fft.cc:607] Unable to register cuFFT factory: Attempting to register factory for plugin cuFFT when one has already been registered\n",
            "2024-05-10 17:23:22.988666: E external/local_xla/xla/stream_executor/cuda/cuda_blas.cc:1515] Unable to register cuBLAS factory: Attempting to register factory for plugin cuBLAS when one has already been registered\n",
            "2024-05-10 17:23:22.998570: I tensorflow/core/platform/cpu_feature_guard.cc:182] This TensorFlow binary is optimized to use available CPU instructions in performance-critical operations.\n",
            "To enable the following instructions: AVX2 FMA, in other operations, rebuild TensorFlow with the appropriate compiler flags.\n",
            "2024-05-10 17:23:24.010980: W tensorflow/compiler/tf2tensorrt/utils/py_utils.cc:38] TF-TRT Warning: Could not find TensorRT\n",
            "100% 10000/10000 [19:09<00:00,  8.70it/s]\n"
          ]
        }
      ]
    },
    {
      "cell_type": "code",
      "source": [
        "import shutil\n",
        "import os\n",
        "\n",
        "#Load google drive\n",
        "from google.colab import drive\n",
        "drive.mount('/content/gdrive')"
      ],
      "metadata": {
        "id": "Lp2otaHAdSK1"
      },
      "execution_count": null,
      "outputs": []
    },
    {
      "cell_type": "code",
      "source": [
        "import shutil\n",
        "\n",
        "def copy_folders(src, dst):\n",
        " \"\"\"Copies all folders from the source directory to the destination directory.\n",
        "\n",
        " Args:\n",
        " src: The path to the source directory.\n",
        " dst: The path to the destination directory.\n",
        " \"\"\"\n",
        "\n",
        " shutil.copytree(src, dst)\n",
        "\n",
        "if __name__ == \"__main__\":\n",
        " src = \"/content/gdrive/MyDrive/CV\" # Souce folder (Make sure to check the file path)\n",
        " dst = \"/content/CV\" #Destination folder (This will create a folder called \"CV\" and add all the content there\n",
        "\n",
        " copy_folders(src, dst)"
      ],
      "metadata": {
        "id": "_PKMbV2pl7p9"
      },
      "execution_count": null,
      "outputs": []
    },
    {
      "cell_type": "code",
      "source": [
        "import shutil\n",
        "import zipfile\n",
        "\n",
        "def zip_folder(folder_path, output_zip_path):\n",
        "    \"\"\"Zips the contents of a folder into a zip file.\n",
        "\n",
        "    Args:\n",
        "        folder_path: The path to the folder to be zipped.\n",
        "        output_zip_path: The path to the output zip file.\n",
        "    \"\"\"\n",
        "\n",
        "    with zipfile.ZipFile(output_zip_path, \"w\") as zip_file:\n",
        "        for root, dirs, files in os.walk(folder_path):\n",
        "            for file in files:\n",
        "                file_path = os.path.join(root, file)\n",
        "                zip_file.write(file_path)\n",
        "\n",
        "if __name__ == \"__main__\":\n",
        "    folder_path = \"/content/out_2024-05-10_17-02-52\" #Souce folder\n",
        "    output_zip_path = \"/content/out3.zip\" #zip file\n",
        "\n",
        "    zip_folder(folder_path, output_zip_path)"
      ],
      "metadata": {
        "id": "6wFmw6mkmSRV"
      },
      "execution_count": 11,
      "outputs": []
    },
    {
      "cell_type": "code",
      "source": [],
      "metadata": {
        "id": "u8RgqsEtmYa5"
      },
      "execution_count": null,
      "outputs": []
    }
  ]
}